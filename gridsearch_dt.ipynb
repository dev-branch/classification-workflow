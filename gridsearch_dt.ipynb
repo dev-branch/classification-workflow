{
 "cells": [
  {
   "cell_type": "markdown",
   "id": "9f929ac2-b860-4854-87ec-a2e6f1a82e2c",
   "metadata": {},
   "source": [
    "# Libraries"
   ]
  },
  {
   "cell_type": "code",
   "execution_count": 1,
   "id": "571cce04-96cd-4d5d-9508-3584bb85ccfa",
   "metadata": {},
   "outputs": [],
   "source": [
    "%cd -q library\n",
    "%run common.ipy\n",
    "%cd -q ..\n",
    "\n",
    "from library.fns import get_raw_data, fix_col_names\n",
    "from library.cleaner import Cleaner\n",
    "from sklearn.dummy import DummyClassifier"
   ]
  },
  {
   "cell_type": "markdown",
   "id": "403d09fa-8b34-470f-b35c-a8357ac3fb89",
   "metadata": {},
   "source": [
    "# EDA"
   ]
  },
  {
   "cell_type": "code",
   "execution_count": 2,
   "id": "715fcc03-e610-4589-a60c-ab24249c0737",
   "metadata": {},
   "outputs": [],
   "source": [
    "X_train_raw, X_test_raw, y_train, y_test = get_raw_data()\n",
    "X_train_raw_col_fix = fix_col_names(X_train_raw)\n",
    "X_test_raw_col_fix = fix_col_names(X_test_raw)\n",
    "c = Cleaner(['p_class', 'sex', 'age', 'sib_sp', 'parch', 'fare', 'embarked'])\n",
    "c.fit(X_train_raw_col_fix)\n",
    "X_train = c.transform(X_train_raw_col_fix)\n",
    "X_test = c.transform(X_test_raw_col_fix)"
   ]
  },
  {
   "cell_type": "markdown",
   "id": "acd4d237-8d0a-43a8-9b08-a30373e8f484",
   "metadata": {},
   "source": [
    "# Decision Tree Grid Search"
   ]
  },
  {
   "cell_type": "code",
   "execution_count": 10,
   "id": "583b1f15-8412-459b-9ca7-5a953fe4ae7c",
   "metadata": {},
   "outputs": [
    {
     "name": "stdout",
     "output_type": "stream",
     "text": [
      "Fitting 5 folds for each of 912 candidates, totalling 4560 fits\n"
     ]
    },
    {
     "data": {
      "text/html": [
       "<pre style=\"white-space:pre;overflow-x:auto;line-height:normal;font-family:Menlo,'DejaVu Sans Mono',consolas,'Courier New',monospace\">\n",
       "<span style=\"font-weight: bold\">(</span>\n",
       "    <span style=\"color: #008080; text-decoration-color: #008080; font-weight: bold\">0.822170868347339</span>,\n",
       "    <span style=\"font-weight: bold\">{</span>\n",
       "        <span style=\"color: #008000; text-decoration-color: #008000\">'criterion'</span>: <span style=\"color: #008000; text-decoration-color: #008000\">'gini'</span>,\n",
       "        <span style=\"color: #008000; text-decoration-color: #008000\">'max_depth'</span>: <span style=\"color: #008080; text-decoration-color: #008080; font-weight: bold\">3</span>,\n",
       "        <span style=\"color: #008000; text-decoration-color: #008000\">'max_features'</span>: <span style=\"color: #008000; text-decoration-color: #008000\">'log2'</span>,\n",
       "        <span style=\"color: #008000; text-decoration-color: #008000\">'min_samples_split'</span>: <span style=\"color: #008080; text-decoration-color: #008080; font-weight: bold\">3</span>\n",
       "    <span style=\"font-weight: bold\">}</span>\n",
       "<span style=\"font-weight: bold\">)</span>\n",
       "</pre>\n"
      ],
      "text/plain": [
       "\n",
       "\u001b[1m(\u001b[0m\n",
       "    \u001b[1;36m0.822170868347339\u001b[0m,\n",
       "    \u001b[1m{\u001b[0m\n",
       "        \u001b[32m'criterion'\u001b[0m: \u001b[32m'gini'\u001b[0m,\n",
       "        \u001b[32m'max_depth'\u001b[0m: \u001b[1;36m3\u001b[0m,\n",
       "        \u001b[32m'max_features'\u001b[0m: \u001b[32m'log2'\u001b[0m,\n",
       "        \u001b[32m'min_samples_split'\u001b[0m: \u001b[1;36m3\u001b[0m\n",
       "    \u001b[1m}\u001b[0m\n",
       "\u001b[1m)\u001b[0m\n"
      ]
     },
     "metadata": {},
     "output_type": "display_data"
    }
   ],
   "source": [
    "parameters = {'criterion': ['entropy', 'gini'],\n",
    "              'max_depth': range(1, 20),\n",
    "              'min_samples_split': range(2, 10),\n",
    "              'max_features': ['sqrt', 'log2', None]\n",
    "             }\n",
    "model = DecisionTreeClassifier()\n",
    "gs = GridSearchCV(model, parameters, cv=5, n_jobs=-1, verbose=1)\n",
    "gs.fit(X_train, y_train)\n",
    "gs.best_score_, gs.best_params_"
   ]
  },
  {
   "cell_type": "code",
   "execution_count": null,
   "id": "e7904e3f-8701-404a-aead-885309eb08c4",
   "metadata": {},
   "outputs": [],
   "source": []
  },
  {
   "cell_type": "code",
   "execution_count": null,
   "id": "720b19db-0821-4968-ab1e-7940c7f6c580",
   "metadata": {},
   "outputs": [],
   "source": []
  }
 ],
 "metadata": {
  "kernelspec": {
   "display_name": "Python 3 (ipykernel)",
   "language": "python",
   "name": "python3"
  },
  "language_info": {
   "codemirror_mode": {
    "name": "ipython",
    "version": 3
   },
   "file_extension": ".py",
   "mimetype": "text/x-python",
   "name": "python",
   "nbconvert_exporter": "python",
   "pygments_lexer": "ipython3",
   "version": "3.10.0"
  }
 },
 "nbformat": 4,
 "nbformat_minor": 5
}
