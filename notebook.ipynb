{
 "cells": [
  {
   "cell_type": "markdown",
   "id": "9f929ac2-b860-4854-87ec-a2e6f1a82e2c",
   "metadata": {},
   "source": [
    "# Libraries"
   ]
  },
  {
   "cell_type": "code",
   "execution_count": 109,
   "id": "571cce04-96cd-4d5d-9508-3584bb85ccfa",
   "metadata": {},
   "outputs": [],
   "source": [
    "%cd -q library\n",
    "%run common.ipy\n",
    "%cd -q ..\n",
    "\n",
    "from library.fns import get_raw_data, fix_col_names\n",
    "from library.cleaner import Cleaner\n",
    "from sklearn.dummy import DummyClassifier\n",
    "import pickle"
   ]
  },
  {
   "cell_type": "markdown",
   "id": "403d09fa-8b34-470f-b35c-a8357ac3fb89",
   "metadata": {},
   "source": [
    "# EDA"
   ]
  },
  {
   "cell_type": "code",
   "execution_count": 38,
   "id": "715fcc03-e610-4589-a60c-ab24249c0737",
   "metadata": {},
   "outputs": [],
   "source": [
    "X_train_raw, X_test_raw, y_train, y_test = get_raw_data()\n",
    "X_train_raw_col_fix = fix_col_names(X_train_raw)\n",
    "X_test_raw_col_fix = fix_col_names(X_test_raw)\n",
    "c = Cleaner(['p_class', 'sex', 'age', 'sib_sp', 'parch', 'fare', 'embarked'])\n",
    "c.fit(X_train_raw_col_fix)\n",
    "X_train = c.transform(X_train_raw_col_fix)\n",
    "X_test = c.transform(X_test_raw_col_fix)"
   ]
  },
  {
   "cell_type": "markdown",
   "id": "e949b0e5-e43a-4d71-a4d2-4c9191bd0d48",
   "metadata": {},
   "source": [
    "# Analysis\n",
    "\n",
    "- [Go Here](analysis.ipynb)\n"
   ]
  },
  {
   "cell_type": "markdown",
   "id": "8c0774f6-7dac-409b-a674-5ac0e58c02b8",
   "metadata": {},
   "source": [
    "# Determine Metric to Optimize & Baseline Model\n",
    "\n",
    "- accuaracy, recall, precison, f1, auc, etc|"
   ]
  },
  {
   "cell_type": "code",
   "execution_count": 39,
   "id": "511a6677-301c-4b64-adc8-6b9380f7d0eb",
   "metadata": {},
   "outputs": [
    {
     "data": {
      "text/html": [
       "<pre style=\"white-space:pre;overflow-x:auto;line-height:normal;font-family:Menlo,'DejaVu Sans Mono',consolas,'Courier New',monospace\">\n",
       "<span style=\"color: #008080; text-decoration-color: #008080; font-weight: bold\">0</span>    <span style=\"color: #008080; text-decoration-color: #008080; font-weight: bold\">0.627517</span>\n",
       "<span style=\"color: #008080; text-decoration-color: #008080; font-weight: bold\">1</span>    <span style=\"color: #008080; text-decoration-color: #008080; font-weight: bold\">0.372483</span>\n",
       "Name: Survived, dtype: float64\n",
       "</pre>\n"
      ],
      "text/plain": [
       "\n",
       "\u001b[1;36m0\u001b[0m    \u001b[1;36m0.627517\u001b[0m\n",
       "\u001b[1;36m1\u001b[0m    \u001b[1;36m0.372483\u001b[0m\n",
       "Name: Survived, dtype: float64\n"
      ]
     },
     "metadata": {},
     "output_type": "display_data"
    }
   ],
   "source": [
    "n = len(y_train)\n",
    "y_train.value_counts(normalize=True)"
   ]
  },
  {
   "cell_type": "code",
   "execution_count": 40,
   "id": "ef74201a-9ccf-4d37-95bf-db2407114e1c",
   "metadata": {},
   "outputs": [
    {
     "data": {
      "text/html": [
       "<pre style=\"white-space:pre;overflow-x:auto;line-height:normal;font-family:Menlo,'DejaVu Sans Mono',consolas,'Courier New',monospace\"><span style=\"color: #008080; text-decoration-color: #008080; font-weight: bold\">0.6275167785234899</span>\n",
       "</pre>\n"
      ],
      "text/plain": [
       "\u001b[1;36m0.6275167785234899\u001b[0m\n"
      ]
     },
     "metadata": {},
     "output_type": "display_data"
    }
   ],
   "source": [
    "# at a minimum, the model has to exceed 63%\n",
    "max(y_train.mean(), 1 - y_train.mean())"
   ]
  },
  {
   "cell_type": "code",
   "execution_count": 41,
   "id": "88d6a987-72a3-4ba8-a2a5-d9029a787434",
   "metadata": {},
   "outputs": [
    {
     "data": {
      "text/html": [
       "<pre style=\"white-space:pre;overflow-x:auto;line-height:normal;font-family:Menlo,'DejaVu Sans Mono',consolas,'Courier New',monospace\"><span style=\"font-weight: bold\">(</span><span style=\"color: #008080; text-decoration-color: #008080; font-weight: bold\">194</span>, <span style=\"color: #008080; text-decoration-color: #008080; font-weight: bold\">121</span><span style=\"font-weight: bold\">)</span>\n",
       "</pre>\n"
      ],
      "text/plain": [
       "\u001b[1m(\u001b[0m\u001b[1;36m194\u001b[0m, \u001b[1;36m121\u001b[0m\u001b[1m)\u001b[0m\n"
      ]
     },
     "metadata": {},
     "output_type": "display_data"
    }
   ],
   "source": [
    "tn, fp, fn, tp = confusion_matrix(y_train, stats.randint(0, 2).rvs(n)).ravel(); fp, fn"
   ]
  },
  {
   "cell_type": "code",
   "execution_count": 42,
   "id": "86250af7-b243-47bf-a33e-af1b4501b93f",
   "metadata": {},
   "outputs": [
    {
     "data": {
      "text/html": [
       "<pre style=\"white-space:pre;overflow-x:auto;line-height:normal;font-family:Menlo,'DejaVu Sans Mono',consolas,'Courier New',monospace\"><span style=\"color: #008080; text-decoration-color: #008080; font-weight: bold\">0.3423728813559322</span>\n",
       "</pre>\n"
      ],
      "text/plain": [
       "\u001b[1;36m0.3423728813559322\u001b[0m\n"
      ]
     },
     "metadata": {},
     "output_type": "display_data"
    }
   ],
   "source": [
    "# accuracy\n",
    "tp / (tp + fp)"
   ]
  },
  {
   "cell_type": "code",
   "execution_count": 43,
   "id": "5ff541fb-d573-41d7-a5dd-1303125707ce",
   "metadata": {},
   "outputs": [
    {
     "data": {
      "text/html": [
       "<pre style=\"white-space:pre;overflow-x:auto;line-height:normal;font-family:Menlo,'DejaVu Sans Mono',consolas,'Courier New',monospace\"><span style=\"color: #008080; text-decoration-color: #008080; font-weight: bold\">0.45495495495495497</span>\n",
       "</pre>\n"
      ],
      "text/plain": [
       "\u001b[1;36m0.45495495495495497\u001b[0m\n"
      ]
     },
     "metadata": {},
     "output_type": "display_data"
    }
   ],
   "source": [
    "# recall\n",
    "tp / (tp + fn)"
   ]
  },
  {
   "cell_type": "code",
   "execution_count": 44,
   "id": "173d319f-36d7-418e-a167-026829975ff8",
   "metadata": {},
   "outputs": [
    {
     "data": {
      "text/html": [
       "<pre style=\"white-space:pre;overflow-x:auto;line-height:normal;font-family:Menlo,'DejaVu Sans Mono',consolas,'Courier New',monospace\"><span style=\"font-weight: bold\">(</span><span style=\"color: #008080; text-decoration-color: #008080; font-weight: bold\">142</span>, <span style=\"color: #008080; text-decoration-color: #008080; font-weight: bold\">138</span><span style=\"font-weight: bold\">)</span>\n",
       "</pre>\n"
      ],
      "text/plain": [
       "\u001b[1m(\u001b[0m\u001b[1;36m142\u001b[0m, \u001b[1;36m138\u001b[0m\u001b[1m)\u001b[0m\n"
      ]
     },
     "metadata": {},
     "output_type": "display_data"
    }
   ],
   "source": [
    "tn, fp, fn, tp = confusion_matrix(y_train, stats.bernoulli(0.37).rvs(n)).ravel(); fp, fn"
   ]
  },
  {
   "cell_type": "code",
   "execution_count": 45,
   "id": "9848343e-317d-4da5-95eb-7ae0fea33d56",
   "metadata": {},
   "outputs": [
    {
     "data": {
      "text/html": [
       "<pre style=\"white-space:pre;overflow-x:auto;line-height:normal;font-family:Menlo,'DejaVu Sans Mono',consolas,'Courier New',monospace\"><span style=\"color: #008080; text-decoration-color: #008080; font-weight: bold\">0.37168141592920356</span>\n",
       "</pre>\n"
      ],
      "text/plain": [
       "\u001b[1;36m0.37168141592920356\u001b[0m\n"
      ]
     },
     "metadata": {},
     "output_type": "display_data"
    }
   ],
   "source": [
    "# accuracy\n",
    "tp / (tp + fp)"
   ]
  },
  {
   "cell_type": "code",
   "execution_count": 46,
   "id": "f9ac9367-c6e2-4735-a602-cad1a34152ad",
   "metadata": {},
   "outputs": [
    {
     "data": {
      "text/html": [
       "<pre style=\"white-space:pre;overflow-x:auto;line-height:normal;font-family:Menlo,'DejaVu Sans Mono',consolas,'Courier New',monospace\"><span style=\"color: #008080; text-decoration-color: #008080; font-weight: bold\">0.3783783783783784</span>\n",
       "</pre>\n"
      ],
      "text/plain": [
       "\u001b[1;36m0.3783783783783784\u001b[0m\n"
      ]
     },
     "metadata": {},
     "output_type": "display_data"
    }
   ],
   "source": [
    "# recall\n",
    "tp / (tp + fn)"
   ]
  },
  {
   "cell_type": "code",
   "execution_count": 47,
   "id": "2291253c-615a-4316-b4a5-25f93cef9c44",
   "metadata": {},
   "outputs": [],
   "source": [
    "dc = DummyClassifier(strategy='uniform').fit(X_train, y_train)\n",
    "y_hat_dummy = dc.predict(X_train)"
   ]
  },
  {
   "cell_type": "code",
   "execution_count": 48,
   "id": "df1a832b-cf83-400b-860f-76bc272cb49d",
   "metadata": {},
   "outputs": [
    {
     "data": {
      "text/html": [
       "<pre style=\"white-space:pre;overflow-x:auto;line-height:normal;font-family:Menlo,'DejaVu Sans Mono',consolas,'Courier New',monospace\"><span style=\"font-weight: bold\">(</span><span style=\"color: #008080; text-decoration-color: #008080; font-weight: bold\">0.5234899328859061</span>, <span style=\"color: #008080; text-decoration-color: #008080; font-weight: bold\">0.5495495495495496</span>, <span style=\"color: #008080; text-decoration-color: #008080; font-weight: bold\">0.39869281045751637</span><span style=\"font-weight: bold\">)</span>\n",
       "</pre>\n"
      ],
      "text/plain": [
       "\u001b[1m(\u001b[0m\u001b[1;36m0.5234899328859061\u001b[0m, \u001b[1;36m0.5495495495495496\u001b[0m, \u001b[1;36m0.39869281045751637\u001b[0m\u001b[1m)\u001b[0m\n"
      ]
     },
     "metadata": {},
     "output_type": "display_data"
    }
   ],
   "source": [
    "accuracy_score(y_train, y_hat_dummy), recall_score(y_train, y_hat_dummy), precision_score(y_train, y_hat_dummy)"
   ]
  },
  {
   "cell_type": "markdown",
   "id": "038f7a76-13e8-4c3f-bcd7-94d3271b282f",
   "metadata": {},
   "source": [
    "# Default Models"
   ]
  },
  {
   "cell_type": "code",
   "execution_count": 49,
   "id": "5eb9e2f7-5772-4ba0-9213-a5c9200d5c91",
   "metadata": {},
   "outputs": [],
   "source": [
    "candidates = [KNeighborsClassifier, LogisticRegression, DecisionTreeClassifier, RandomForestClassifier, xgb.XGBClassifier]"
   ]
  },
  {
   "cell_type": "code",
   "execution_count": 50,
   "id": "ebd6b7d7-af7c-4c89-966a-4fa2b60128db",
   "metadata": {},
   "outputs": [],
   "source": [
    "%%capture\n",
    "# remove messy output!\n",
    "accuracies = np.zeros(len(candidates))\n",
    "for i, Model in enumerate(candidates):\n",
    "    model = Model().fit(X_train, y_train)\n",
    "    accuracies[i] = model.score(X_test, y_test)"
   ]
  },
  {
   "cell_type": "code",
   "execution_count": 51,
   "id": "061f3372-8cf2-4d04-ac1c-681d62d9b7a7",
   "metadata": {},
   "outputs": [
    {
     "data": {
      "text/html": [
       "<pre style=\"white-space:pre;overflow-x:auto;line-height:normal;font-family:Menlo,'DejaVu Sans Mono',consolas,'Courier New',monospace\"><span style=\"font-weight: bold\">&lt;</span><span style=\"color: #ff00ff; text-decoration-color: #ff00ff; font-weight: bold\">Figure</span><span style=\"color: #000000; text-decoration-color: #000000\"> size 432x288 with </span><span style=\"color: #008080; text-decoration-color: #008080; font-weight: bold\">1</span><span style=\"color: #000000; text-decoration-color: #000000\"> Axes</span><span style=\"font-weight: bold\">&gt;</span>\n",
       "</pre>\n"
      ],
      "text/plain": [
       "\u001b[1m<\u001b[0m\u001b[1;95mFigure\u001b[0m\u001b[39m size 432x288 with \u001b[0m\u001b[1;36m1\u001b[0m\u001b[39m Axes\u001b[0m\u001b[1m>\u001b[0m\n"
      ]
     },
     "metadata": {},
     "output_type": "display_data"
    },
    {
     "data": {
      "image/png": "[encoded data removed]"
     },
     "metadata": {
      "needs_background": "light"
     },
     "output_type": "display_data"
    }
   ],
   "source": [
    "plt.bar([Model.__name__ for Model in candidates], accuracies, color='#ff33cc', alpha=0.7)\n",
    "plt.axhline(y=0.63, linewidth=1, color='#555555')\n",
    "plt.xticks(rotation=90);"
   ]
  },
  {
   "cell_type": "code",
   "execution_count": 52,
   "id": "e753d588-1f48-41da-b454-37963e41e787",
   "metadata": {},
   "outputs": [],
   "source": [
    "# all models, above, are better than baseline\n",
    "# continue to do feature engineering until you are satisfied, then continue with gridsearch"
   ]
  },
  {
   "cell_type": "markdown",
   "id": "c8ebbb9a-49f2-4ab9-a724-bb089ae5b618",
   "metadata": {},
   "source": [
    "# GridSearch"
   ]
  },
  {
   "cell_type": "markdown",
   "id": "eb370c8d-6c90-4a66-80e3-7d5a82365073",
   "metadata": {},
   "source": [
    "- perform gridsearch\n",
    "- use multiple notebooks if necessary to speed this process up!\n",
    "- [Decision Tree](gridsearch_dt.ipynb)"
   ]
  },
  {
   "cell_type": "markdown",
   "id": "58780a95-a70a-4e75-88b0-a60b6a700ae8",
   "metadata": {},
   "source": [
    "# Make Final Model"
   ]
  },
  {
   "cell_type": "code",
   "execution_count": 96,
   "id": "ed65d0fa-6c99-407b-8062-e83b8a8a54b1",
   "metadata": {},
   "outputs": [],
   "source": [
    "hyperparams = {\n",
    "        'criterion': 'gini',\n",
    "        'max_depth': 3,\n",
    "        'max_features': 'log2',\n",
    "        'min_samples_split': 3\n",
    "}\n",
    "model = DecisionTreeClassifier(**hyperparams).fit(X_train, y_train)"
   ]
  },
  {
   "cell_type": "code",
   "execution_count": 97,
   "id": "9a335c55-458d-4144-a4cb-0fb3cf247593",
   "metadata": {},
   "outputs": [],
   "source": [
    "metrics = pd.DataFrame(np.zeros((100,3)), columns=['accuracy', 'precision', 'recall'])\n",
    "thresholds = range(0, 100)\n",
    "for t in thresholds:\n",
    "    y_hat = model.predict_proba(X_test)[:,1] > (t/100)\n",
    "    metrics.loc[t] = accuracy_score(y_test, y_hat), precision_score(y_test, y_hat, zero_division=0), recall_score(y_test, y_hat, zero_division=0)"
   ]
  },
  {
   "cell_type": "code",
   "execution_count": 98,
   "id": "c88edef3-0285-49fc-952b-7d590086eeef",
   "metadata": {
    "tags": []
   },
   "outputs": [
    {
     "data": {
      "text/html": [
       "<pre style=\"white-space:pre;overflow-x:auto;line-height:normal;font-family:Menlo,'DejaVu Sans Mono',consolas,'Courier New',monospace\"><span style=\"font-weight: bold\">&lt;</span><span style=\"color: #ff00ff; text-decoration-color: #ff00ff; font-weight: bold\">Figure</span><span style=\"color: #000000; text-decoration-color: #000000\"> size 864x504 with </span><span style=\"color: #008080; text-decoration-color: #008080; font-weight: bold\">1</span><span style=\"color: #000000; text-decoration-color: #000000\"> Axes</span><span style=\"font-weight: bold\">&gt;</span>\n",
       "</pre>\n"
      ],
      "text/plain": [
       "\u001b[1m<\u001b[0m\u001b[1;95mFigure\u001b[0m\u001b[39m size 864x504 with \u001b[0m\u001b[1;36m1\u001b[0m\u001b[39m Axes\u001b[0m\u001b[1m>\u001b[0m\n"
      ]
     },
     "metadata": {},
     "output_type": "display_data"
    },
    {
     "data": {
      "image/png": "[encoded data removed]"
     },
     "metadata": {
      "needs_background": "light"
     },
     "output_type": "display_data"
    }
   ],
   "source": [
    "# no reason to change threshold, looks good\n",
    "metrics.plot(figsize=(12, 7));"
   ]
  },
  {
   "cell_type": "markdown",
   "id": "36759ff5-68e1-4044-a534-aabf220282f5",
   "metadata": {},
   "source": [
    "# Use Test Data on Final Model"
   ]
  },
  {
   "cell_type": "code",
   "execution_count": 99,
   "id": "7a7700d7-83f7-448b-86ed-6f6063eea403",
   "metadata": {},
   "outputs": [
    {
     "data": {
      "text/html": [
       "<pre style=\"white-space:pre;overflow-x:auto;line-height:normal;font-family:Menlo,'DejaVu Sans Mono',consolas,'Courier New',monospace\"><span style=\"color: #008080; text-decoration-color: #008080; font-weight: bold\">0.7288135593220338</span>\n",
       "</pre>\n"
      ],
      "text/plain": [
       "\u001b[1;36m0.7288135593220338\u001b[0m\n"
      ]
     },
     "metadata": {},
     "output_type": "display_data"
    }
   ],
   "source": [
    "model.score(X_test, y_test)"
   ]
  },
  {
   "cell_type": "markdown",
   "id": "b19eae21-21c8-4f71-8fd6-6e85d57be5b3",
   "metadata": {},
   "source": [
    "# Explain the Model and Features"
   ]
  },
  {
   "cell_type": "code",
   "execution_count": 107,
   "id": "0c3b876c-10d6-4d6e-8614-65ae451fa502",
   "metadata": {},
   "outputs": [
    {
     "data": {
      "text/html": [
       "<pre style=\"white-space:pre;overflow-x:auto;line-height:normal;font-family:Menlo,'DejaVu Sans Mono',consolas,'Courier New',monospace\"><span style=\"font-weight: bold\">&lt;</span><span style=\"color: #ff00ff; text-decoration-color: #ff00ff; font-weight: bold\">Figure</span><span style=\"color: #000000; text-decoration-color: #000000\"> size 432x288 with </span><span style=\"color: #008080; text-decoration-color: #008080; font-weight: bold\">1</span><span style=\"color: #000000; text-decoration-color: #000000\"> Axes</span><span style=\"font-weight: bold\">&gt;</span>\n",
       "</pre>\n"
      ],
      "text/plain": [
       "\u001b[1m<\u001b[0m\u001b[1;95mFigure\u001b[0m\u001b[39m size 432x288 with \u001b[0m\u001b[1;36m1\u001b[0m\u001b[39m Axes\u001b[0m\u001b[1m>\u001b[0m\n"
      ]
     },
     "metadata": {},
     "output_type": "display_data"
    },
    {
     "data": {
      "image/png": "[encoded data removed]"
     },
     "metadata": {
      "needs_background": "light"
     },
     "output_type": "display_data"
    }
   ],
   "source": [
    "plt.bar(X_test.columns, model.feature_importances_, color='purple')\n",
    "plt.xticks(rotation=45);"
   ]
  },
  {
   "cell_type": "markdown",
   "id": "ca6984b0-32ae-4ea8-b4c6-47fbba97fc1a",
   "metadata": {},
   "source": [
    "# Pickel Model to use in Production"
   ]
  },
  {
   "cell_type": "code",
   "execution_count": 111,
   "id": "1592b918-e43e-4425-9adc-19202b3fe10f",
   "metadata": {},
   "outputs": [],
   "source": [
    "with open('model.p', 'wb') as file:\n",
    "    pickle.dump(model, file, protocol=pickle.HIGHEST_PROTOCOL)"
   ]
  },
  {
   "cell_type": "code",
   "execution_count": 113,
   "id": "b653ce9e-3c49-4bae-9dc0-02dcf8a42170",
   "metadata": {},
   "outputs": [],
   "source": [
    "with open('model.p', 'rb') as file:\n",
    "    reanimated = pickle.load(file)"
   ]
  },
  {
   "cell_type": "code",
   "execution_count": 114,
   "id": "1335e180-0ede-4c9b-ad88-55a3f725c164",
   "metadata": {},
   "outputs": [
    {
     "data": {
      "text/html": [
       "<pre style=\"white-space:pre;overflow-x:auto;line-height:normal;font-family:Menlo,'DejaVu Sans Mono',consolas,'Courier New',monospace\"><span style=\"color: #008080; text-decoration-color: #008080; font-weight: bold\">0.7288135593220338</span>\n",
       "</pre>\n"
      ],
      "text/plain": [
       "\u001b[1;36m0.7288135593220338\u001b[0m\n"
      ]
     },
     "metadata": {},
     "output_type": "display_data"
    }
   ],
   "source": [
    "reanimated.score(X_test, y_test)"
   ]
  },
  {
   "cell_type": "markdown",
   "id": "fdc76805-a93a-4304-a340-66d31a3abfe3",
   "metadata": {},
   "source": [
    "# Finished"
   ]
  },
  {
   "cell_type": "code",
   "execution_count": null,
   "id": "289a9ce2-b844-4d70-b6b6-96ad13c68209",
   "metadata": {},
   "outputs": [],
   "source": []
  },
  {
   "cell_type": "code",
   "execution_count": null,
   "id": "123e6c8f-bfc1-4fd8-b062-dacd7242e0d1",
   "metadata": {},
   "outputs": [],
   "source": []
  },
  {
   "cell_type": "code",
   "execution_count": null,
   "id": "61ad0ef7-5f93-435b-9631-60546f49dc90",
   "metadata": {},
   "outputs": [],
   "source": []
  }
 ],
 "metadata": {
  "kernelspec": {
   "display_name": "Python 3 (ipykernel)",
   "language": "python",
   "name": "python3"
  },
  "language_info": {
   "codemirror_mode": {
    "name": "ipython",
    "version": 3
   },
   "file_extension": ".py",
   "mimetype": "text/x-python",
   "name": "python",
   "nbconvert_exporter": "python",
   "pygments_lexer": "ipython3",
   "version": "3.10.0"
  }
 },
 "nbformat": 4,
 "nbformat_minor": 5
}
